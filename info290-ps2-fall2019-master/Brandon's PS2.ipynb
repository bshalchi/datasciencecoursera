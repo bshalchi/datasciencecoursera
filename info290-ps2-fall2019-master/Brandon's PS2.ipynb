{
 "cells": [
  {
   "cell_type": "code",
   "execution_count": 67,
   "metadata": {
    "hide_output": true,
    "name": "setup"
   },
   "outputs": [],
   "source": [
    "import numpy as np \n",
    "import pandas as pd\n",
    "import matplotlib.pyplot as plt \n",
    "import statsmodels.formula.api as smf \n",
    "import math\n",
    "import statistics as stat\n",
    "\n",
    "from scipy import stats\n",
    "\n",
    "# import seaborn"
   ]
  },
  {
   "cell_type": "markdown",
   "metadata": {},
   "source": [
    "# 0. Write functions "
   ]
  },
  {
   "cell_type": "code",
   "execution_count": 2,
   "metadata": {},
   "outputs": [],
   "source": [
    "def estimate_ate(): \n",
    "    '''\n",
    "    return values \n",
    "    '''\n",
    "    "
   ]
  },
  {
   "cell_type": "markdown",
   "metadata": {},
   "source": [
    "# 1. What happens when pilgrims attend the Hajj pilgrimage to Mecca? \n",
    "\n",
    "On the one hand, participating in a common task with a diverse group of pilgrims might lead to increased mutual regard through processes identified in *Contact Theories*. On the other hand, media narritives have raised the spectre that this might be accompanied by \"antipathy toward non-Muslims\". [Clingingsmith, Khwaja and Kremer (2009)](https://dash.harvard.edu/handle/1/3659699) investigates the question. \n",
    "\n",
    "Using the data here, test the sharp null hypothesis that winning the visa lottery for the pilgrimage to Mecca had no effect on the views of Pakistani Muslims toward people from other countries. Assume that the Pakistani authorities assigned visas using complete random assignment. Use, as your primary outcome the `views` variable, and as your treatment feature `success`. If you're ambitious, write your fucntion generally so that you can also evaluate feeligns toward specific nationalities."
   ]
  },
  {
   "cell_type": "code",
   "execution_count": 3,
   "metadata": {},
   "outputs": [],
   "source": [
    "d = pd.read_csv('./data/clingingsmith_2009.csv')"
   ]
  },
  {
   "cell_type": "markdown",
   "metadata": {},
   "source": [
    "a. Using either `pandas`, group the data by `success` and report whether views toward others are generally more positive among lottery winners or lottery non-winners. "
   ]
  },
  {
   "cell_type": "code",
   "execution_count": 4,
   "metadata": {},
   "outputs": [
    {
     "name": "stdout",
     "output_type": "stream",
     "text": [
      "Lottery winners are, in general, 0.475 more positive toward others when compared to non-winners.\n"
     ]
    }
   ],
   "source": [
    "ate = estimate_ate()\n",
    "\n",
    "a = d[[\"success\", \"views\"]].groupby(\"success\").mean()\n",
    "a = a.diff()[\"views\"][1]\n",
    "a\n",
    "\n",
    "print(\"Lottery winners are, in general, \" + str(round(a, 3)) + \" more positive toward others when compared to non-winners.\")"
   ]
  },
  {
   "cell_type": "markdown",
   "metadata": {},
   "source": [
    "b. But is this a meaningful difference, or could it just be randomization noise? Conduct 10,000 simulated random assignments under the sharp null hypothesis to find out. (Don't just copy the code from the async, think about how to write this yourself.) "
   ]
  },
  {
   "cell_type": "code",
   "execution_count": 5,
   "metadata": {},
   "outputs": [],
   "source": [
    "# def fun(data):\n",
    "#     count0 = 0\n",
    "#     count1 = 0\n",
    "#     for i in data:\n",
    "#         if i == 1:\n",
    "#             count1 += i\n",
    "#         elif i == 0:\n",
    "#             count0 += 1\n",
    "#     return \"There are \" + str(count0) + \" in control and \" + str(count1) + \" in treatment.\"\n",
    "\n",
    "# print(fun(d[\"success\"]))\n",
    "\n",
    "\n",
    "number_of_participants = len(d)\n",
    "\n",
    "def randomize(number_of_participants):\n",
    "    a = np.repeat([0,1], repeats = (number_of_participants/2))\n",
    "    np.random.shuffle(a)\n",
    "    return a\n",
    "\n",
    "def simulated_experiment(df, number_of_participants):\n",
    "    df[\"treat\"] = randomize(number_of_participants)\n",
    "    results = df[[\"treat\", \"views\"]].groupby(\"treat\").mean()\n",
    "    ate = results.diff()[\"views\"][1]\n",
    "    return ate \n",
    "\n",
    "experiments = []\n",
    "for i in range(1, 10000):\n",
    "    experiments.append(simulated_experiment(d, number_of_participants))"
   ]
  },
  {
   "cell_type": "code",
   "execution_count": 6,
   "metadata": {},
   "outputs": [],
   "source": [
    "# experiments"
   ]
  },
  {
   "cell_type": "code",
   "execution_count": 7,
   "metadata": {},
   "outputs": [
    {
     "data": {
      "text/plain": [
       "<matplotlib.lines.Line2D at 0x1a227a6ba8>"
      ]
     },
     "execution_count": 7,
     "metadata": {},
     "output_type": "execute_result"
    },
    {
     "data": {
      "image/png": "[encoded data removed]",
      "text/plain": [
       "<Figure size 432x288 with 1 Axes>"
      ]
     },
     "metadata": {
      "needs_background": "light"
     },
     "output_type": "display_data"
    }
   ],
   "source": [
    "plt.hist(experiments)\n",
    "plt.axvline(x = a, color = \"gold\")"
   ]
  },
  {
   "cell_type": "markdown",
   "metadata": {},
   "source": [
    "c. How many of the simulated random assignments generate an estimated ATE that is at least as large as the actual estimate of the ATE? "
   ]
  },
  {
   "cell_type": "code",
   "execution_count": 8,
   "metadata": {},
   "outputs": [
    {
     "name": "stdout",
     "output_type": "stream",
     "text": [
      "12 simulated random assignments generated an ATE greater than or equal to the actual ATE\n"
     ]
    }
   ],
   "source": [
    "def supa_fun(listy):\n",
    "    count = 0\n",
    "    for i in listy:\n",
    "        if i >= a:\n",
    "            count += 1\n",
    "    return str(count) + \" simulated random assignments generated an ATE greater than or equal to the actual ATE\"\n",
    "print(supa_fun(experiments))"
   ]
  },
  {
   "cell_type": "code",
   "execution_count": 9,
   "metadata": {},
   "outputs": [],
   "source": [
    "num_larger = '15 simulated random assignments generated an ATE greater than or equal to the actual ATE' "
   ]
  },
  {
   "cell_type": "markdown",
   "metadata": {},
   "source": [
    "Please, make sure that you include your result into the printed space using the **`r num_larger`** inline code idiom for this, and all other answers. \n",
    "\n",
    "d. What is the implied *one-tailed* p-value? "
   ]
  },
  {
   "cell_type": "code",
   "execution_count": 10,
   "metadata": {},
   "outputs": [
    {
     "data": {
      "text/plain": [
       "0.0012001200120012002"
      ]
     },
     "execution_count": 10,
     "metadata": {},
     "output_type": "execute_result"
    }
   ],
   "source": [
    "p = experiments > a\n",
    "p = p.astype(int)\n",
    "p = p.mean()\n",
    "p"
   ]
  },
  {
   "cell_type": "code",
   "execution_count": 11,
   "metadata": {},
   "outputs": [],
   "source": [
    "p_value_one_tailed = 'The p-value for a one-tailed test is ~ .0015' "
   ]
  },
  {
   "cell_type": "markdown",
   "metadata": {},
   "source": [
    "e. How many of the simulated random assignments generate an estimated ATE that is at least as large *in absolute value* as the actual estimate of the ATE? "
   ]
  },
  {
   "cell_type": "code",
   "execution_count": 12,
   "metadata": {},
   "outputs": [
    {
     "name": "stdout",
     "output_type": "stream",
     "text": [
      "27 simulated random assignments generated an absolute value ATE greater than or equal to the actual ATE\n"
     ]
    }
   ],
   "source": [
    "def abs_supa_fun(listy):\n",
    "    count = 0\n",
    "    for i in listy:\n",
    "        i = abs(i)\n",
    "        if i >= a:\n",
    "            count += 1\n",
    "    return str(count) + \" simulated random assignments generated an absolute value ATE greater than or equal to the actual ATE\"\n",
    "print(abs_supa_fun(experiments))"
   ]
  },
  {
   "cell_type": "code",
   "execution_count": 13,
   "metadata": {},
   "outputs": [],
   "source": [
    "number_more_extreme = '41 simulated random assignments generated an absolute value ATE greater than or equal to the actual ATE'"
   ]
  },
  {
   "cell_type": "markdown",
   "metadata": {},
   "source": [
    "f. What is the implied two-tailed p-value? "
   ]
  },
  {
   "cell_type": "code",
   "execution_count": 14,
   "metadata": {},
   "outputs": [
    {
     "data": {
      "text/plain": [
       "0.0027002700270027003"
      ]
     },
     "execution_count": 14,
     "metadata": {},
     "output_type": "execute_result"
    }
   ],
   "source": [
    "p = np.abs(experiments) > a\n",
    "p = p.astype(\"int\")\n",
    "p = p.mean()\n",
    "p"
   ]
  },
  {
   "cell_type": "code",
   "execution_count": 15,
   "metadata": {},
   "outputs": [],
   "source": [
    "p_value_two_tailed = 'The p-value for a two-tailed test is ~ .004' "
   ]
  },
  {
   "cell_type": "markdown",
   "metadata": {},
   "source": [
    "# 2. Randomization Inference Practice\n",
    "McElhoe and Conner (1986) suggest using a *new* instrument called a \"Visiplume\" measure pollution. The EPA has a standard method for measuring pollution. Because they're good scientists, McElhoe and Conner want to validate that their instrument is measuring the same levels of pollution as the EPA instrument. \n",
    "\n",
    "To do so, they take six readings -- one with each instrument -- at a single site. The recorded response is the ratio of the Visiplume reading to the EPA standard reading, and the values that are recorded are: 0.950, 0.978, 0.762, 0.733, 0.823, and 1.011.\n",
    "\n",
    "Suppose that we want to test the question, \"Do the Visiplume readings and the EPA standard readings produce similar enough estimates?\"\n",
    "\n",
    "> (The point of this question is to demonstrate that randomization inference works as a general inferrential paradigm, without *necessairily* being tied to an experiment.)\n",
    "\n",
    "1. How would you structure the sharp-null hypothesis -- that Visiplume and the EPA reaings are the same -- in this case? \n",
    "\n",
    "2. Suppose that our summary of the data is the sum of the ratios. That is, in the test that we conducted, we obsered $0.95 + ... + 1.011 = 5.257$. Using randomization inference, test the sharp-null hypothesis that you formed in the first part of the question. Produce a histogram of the test statistic under the sharp null that compares against the 5.257 value from the test, and also produce a two-sided p-value. "
   ]
  },
  {
   "cell_type": "markdown",
   "metadata": {},
   "source": [
    "# 2.1 (Brandon's Response)\n",
    "\n",
    "We would structure the sharp-null hypothesis, which is there is no difference between Visiplume and the EPA readings. Since the readings from the Visiplum machine are in a ratio form .95/100, we can say (via the sharp null) that the variance is the same for the EPA (100/.95). In other words, we are comparing the noise of the visiplume machine to the EPA machine."
   ]
  },
  {
   "cell_type": "markdown",
   "metadata": {},
   "source": [
    "# 2.2 (Brandon's Response)"
   ]
  },
  {
   "cell_type": "code",
   "execution_count": 16,
   "metadata": {},
   "outputs": [],
   "source": [
    "# What are we wanting to see? That there is no difference in the sharp null\n",
    "\n",
    "visiplume_vector = [.95, .978, .762, .733, .823, 1.011]\n",
    "\n",
    "visiplume_vector_sum = sum(visiplume_vector)\n",
    "\n",
    "number_of_observations = len(visiplume_vector)\n",
    "\n",
    "def reciprocal(vector):\n",
    "    reciprocal_vector = []\n",
    "    for i in visiplume_vector:\n",
    "        reciprocal_vector.append(1/i)\n",
    "    return reciprocal_vector\n",
    "\n",
    "visiplume_df = pd.DataFrame({\n",
    "    \"visiplume\" : visiplume_vector,\n",
    "    \"reciprocal\" : reciprocal(visiplume_vector)\n",
    "})\n",
    "\n",
    "visiplume_df\n",
    "    \n",
    "    \n",
    "def random(number_of_observations):\n",
    "    a = np.repeat([0,1], repeats = (number_of_observations/2))\n",
    "    np.random.shuffle(a)\n",
    "    return a\n",
    "\n",
    "\n",
    "# print(sum(visiplume_vector))\n",
    "\n",
    "# If 0 then use visiplume. Elif 1 then use reciprocal\n",
    "# meauring noise instead"
   ]
  },
  {
   "cell_type": "code",
   "execution_count": 17,
   "metadata": {},
   "outputs": [
    {
     "data": {
      "text/plain": [
       "<matplotlib.lines.Line2D at 0x1a22c14f98>"
      ]
     },
     "execution_count": 17,
     "metadata": {},
     "output_type": "execute_result"
    },
    {
     "data": {
      "image/png": "[encoded data removed]",
      "text/plain": [
       "<Figure size 432x288 with 1 Axes>"
      ]
     },
     "metadata": {
      "needs_background": "light"
     },
     "output_type": "display_data"
    }
   ],
   "source": [
    "# visiplume_df[\"treat\"] = random(number_of_observations)\n",
    "# visiplume_df\n",
    "\n",
    "\n",
    "\n",
    "def final_treat_vector(df):\n",
    "    \"\"\"Passes df as arguement. df must have columns named: treat, visiplume & reciprocal.\"\"\"\n",
    "    count = 0\n",
    "    final = []\n",
    "    for i in df[\"treat\"]:\n",
    "        if i == 0:\n",
    "            final.append(df[\"visiplume\"][count])\n",
    "            count += 1\n",
    "        elif i == 1:\n",
    "            final.append(df[\"reciprocal\"][count])\n",
    "            count += 1\n",
    "    return final\n",
    "\n",
    "\n",
    "\n",
    "\n",
    "# visiplume_df[\"Y\"] = final_treat_vector(visiplume_df)\n",
    "\n",
    "# results = visiplume_df[[\"treat\", \"Y\"]].groupby(\"treat\").mean()\n",
    "# ate = results.diff()[\"Y\"][1]\n",
    "# ate\n",
    "\n",
    "\n",
    "# This is the ate.\n",
    "\n",
    "# def sim_experiment(df, number_of_observations): \n",
    "#     df[\"treat\"] = random(number_of_observations)\n",
    "#     df[\"Y\"] = final_treat_vector(df)\n",
    "#     results = df[[\"treat\", \"Y\"]].groupby(\"treat\").mean()\n",
    "#     ate = results.diff()[\"Y\"][1]\n",
    "#     return ate\n",
    "\n",
    "\n",
    "# This is the sum of Y.\n",
    "\n",
    "def sim_experiment(df, number_of_observations):\n",
    "    df[\"treat\"] = random(number_of_observations)\n",
    "    df[\"Y\"] = final_treat_vector(df)\n",
    "    final_sum = sum(df[\"Y\"])\n",
    "    return final_sum\n",
    "\n",
    "experiments = []\n",
    "for i in range(1, 10000):\n",
    "    experiments.append(sim_experiment(visiplume_df, number_of_observations))\n",
    "\n",
    "plt.hist(experiments)\n",
    "plt.axvline(x = visiplume_vector_sum, color = \"gold\")\n",
    "\n",
    "# simple random assignment instead of complete?"
   ]
  },
  {
   "cell_type": "code",
   "execution_count": 18,
   "metadata": {},
   "outputs": [
    {
     "data": {
      "text/plain": [
       "1.0"
      ]
     },
     "execution_count": 18,
     "metadata": {},
     "output_type": "execute_result"
    }
   ],
   "source": [
    "# new_list = []\n",
    "# for i in experiments:\n",
    "#     i = float(i)\n",
    "#     new_list.append(i)\n",
    "\n",
    "p = np.mean(experiments) > visiplume_vector_sum\n",
    "p = p.astype(int)\n",
    "p = p.mean()\n",
    "p"
   ]
  },
  {
   "cell_type": "code",
   "execution_count": 19,
   "metadata": {},
   "outputs": [],
   "source": [
    "# we can't reject the null because "
   ]
  },
  {
   "cell_type": "code",
   "execution_count": 20,
   "metadata": {},
   "outputs": [],
   "source": [
    "p_value = '0' \n",
    "\n",
    "# randomization inference works even when you don't have an experiment\n",
    "# p_value = 0"
   ]
  },
  {
   "cell_type": "markdown",
   "metadata": {},
   "source": [
    "# 3. Term Limits Aren't Good. \n",
    "\n",
    "Naturally occurring experiments sometimes involve what is, in effect, block random assignment. For example, [Rocio Titiunik](https://sites.google.com/a/umich.edu/titiunik/publications) , in [this paper](http://www-personal.umich.edu/~titiunik/papers/Titiunik2016-PSRM.pdf) studies the effect of lotteries that determine whether state senators in TX and AR serve two-year or four-year terms in the aftermath of decennial redistricting. These lotteries are conducted within each state, and so there are effectively two distinct experiments on the effects of term length.\n",
    "\n",
    "The \"thoery\" in the news (such as it is), is that legislators who serve 4 year terms have more time to slack off and not produce legislation. If this were true, then it would stand to reason that making terms shorter would increase legislative production. \n",
    "\n",
    "One way to measure legislative production is to count the number of bills (legislative proposals) that each senator introduces during a legislative session. The table below lists the number of bills introduced by senators in both states during 2003. "
   ]
  },
  {
   "cell_type": "code",
   "execution_count": 21,
   "metadata": {},
   "outputs": [],
   "source": [
    "d = pd.read_stata('./data/titiunik_2010.dta')\n"
   ]
  },
  {
   "cell_type": "markdown",
   "metadata": {},
   "source": [
    "# 3a"
   ]
  },
  {
   "cell_type": "markdown",
   "metadata": {},
   "source": [
    "a. Using either `pandas`, group the data by state and report the mean number of bills introduced in each state. Does Texas or Arkansas seem to be more productive? Then, group by two- or four-year terms (ignoring states). Do two- or four-year terms seem to be more productive? **Which of these effects is causal, and which is not?** Finally, group by state and term-length. How, if at all, does this change what you learn? "
   ]
  },
  {
   "cell_type": "markdown",
   "metadata": {},
   "source": [
    "# Brandon's Responses"
   ]
  },
  {
   "cell_type": "code",
   "execution_count": 22,
   "metadata": {},
   "outputs": [
    {
     "name": "stdout",
     "output_type": "stream",
     "text": [
      "                  bills_introduced\n",
      "texas0_arkansas1                  \n",
      "0                        68.774194\n",
      "1                        25.514286\n"
     ]
    },
    {
     "data": {
      "text/plain": [
       "-43.259907834101384"
      ]
     },
     "execution_count": 22,
     "metadata": {},
     "output_type": "execute_result"
    }
   ],
   "source": [
    "group_1 = d[[\"bills_introduced\", \"texas0_arkansas1\"]].groupby(\"texas0_arkansas1\").mean()\n",
    "print(group_1)\n",
    "group_1_diff = group_1.diff()[\"bills_introduced\"][1]\n",
    "group_1_diff"
   ]
  },
  {
   "cell_type": "markdown",
   "metadata": {},
   "source": [
    "Texas seems to be more productive with ~ 43 more bills introduced, when compared to Arkansas. In other words, Texas had ~69 bills introduced, while Arkansas had ~ 26 bills introduced."
   ]
  },
  {
   "cell_type": "code",
   "execution_count": 23,
   "metadata": {},
   "outputs": [
    {
     "data": {
      "text/html": [
       "<div>\n",
       "<style scoped>\n",
       "    .dataframe tbody tr th:only-of-type {\n",
       "        vertical-align: middle;\n",
       "    }\n",
       "\n",
       "    .dataframe tbody tr th {\n",
       "        vertical-align: top;\n",
       "    }\n",
       "\n",
       "    .dataframe thead th {\n",
       "        text-align: right;\n",
       "    }\n",
       "</style>\n",
       "<table border=\"1\" class=\"dataframe\">\n",
       "  <thead>\n",
       "    <tr style=\"text-align: right;\">\n",
       "      <th></th>\n",
       "      <th>bills_introduced</th>\n",
       "    </tr>\n",
       "    <tr>\n",
       "      <th>term2year</th>\n",
       "      <th></th>\n",
       "    </tr>\n",
       "  </thead>\n",
       "  <tbody>\n",
       "    <tr>\n",
       "      <th>0</th>\n",
       "      <td>53.090909</td>\n",
       "    </tr>\n",
       "    <tr>\n",
       "      <th>1</th>\n",
       "      <td>38.575758</td>\n",
       "    </tr>\n",
       "  </tbody>\n",
       "</table>\n",
       "</div>"
      ],
      "text/plain": [
       "           bills_introduced\n",
       "term2year                  \n",
       "0                 53.090909\n",
       "1                 38.575758"
      ]
     },
     "execution_count": 23,
     "metadata": {},
     "output_type": "execute_result"
    }
   ],
   "source": [
    "group_2 = d[[\"term2year\", \"bills_introduced\"]].groupby(\"term2year\").mean()\n",
    "group_2 # 0 is 4 year; 1 is 2 year"
   ]
  },
  {
   "cell_type": "markdown",
   "metadata": {},
   "source": [
    "Two-year terms seem to be more productive with ~ 39 bills introduced in two years. ~ 53 bills were introduced during a four-year term, which means ~ 26 bills were introduced in a two-year timeframe."
   ]
  },
  {
   "cell_type": "markdown",
   "metadata": {},
   "source": [
    "The casual effect can be associated with senators being randomly assigned to two- or four-year terms. A causal effect is not associated with the state level as there is no random assignment of senators to either Texas or Arkansas."
   ]
  },
  {
   "cell_type": "code",
   "execution_count": 24,
   "metadata": {},
   "outputs": [],
   "source": [
    "# Group by state and term-length"
   ]
  },
  {
   "cell_type": "code",
   "execution_count": 25,
   "metadata": {},
   "outputs": [
    {
     "data": {
      "text/html": [
       "<div>\n",
       "<style scoped>\n",
       "    .dataframe tbody tr th:only-of-type {\n",
       "        vertical-align: middle;\n",
       "    }\n",
       "\n",
       "    .dataframe tbody tr th {\n",
       "        vertical-align: top;\n",
       "    }\n",
       "\n",
       "    .dataframe thead th {\n",
       "        text-align: right;\n",
       "    }\n",
       "</style>\n",
       "<table border=\"1\" class=\"dataframe\">\n",
       "  <thead>\n",
       "    <tr style=\"text-align: right;\">\n",
       "      <th></th>\n",
       "      <th></th>\n",
       "      <th>bills_introduced</th>\n",
       "    </tr>\n",
       "    <tr>\n",
       "      <th>texas0_arkansas1</th>\n",
       "      <th>term2year</th>\n",
       "      <th></th>\n",
       "    </tr>\n",
       "  </thead>\n",
       "  <tbody>\n",
       "    <tr>\n",
       "      <th rowspan=\"2\" valign=\"top\">0</th>\n",
       "      <th>0</th>\n",
       "      <td>76.875000</td>\n",
       "    </tr>\n",
       "    <tr>\n",
       "      <th>1</th>\n",
       "      <td>60.133333</td>\n",
       "    </tr>\n",
       "    <tr>\n",
       "      <th rowspan=\"2\" valign=\"top\">1</th>\n",
       "      <th>0</th>\n",
       "      <td>30.705882</td>\n",
       "    </tr>\n",
       "    <tr>\n",
       "      <th>1</th>\n",
       "      <td>20.611111</td>\n",
       "    </tr>\n",
       "  </tbody>\n",
       "</table>\n",
       "</div>"
      ],
      "text/plain": [
       "                            bills_introduced\n",
       "texas0_arkansas1 term2year                  \n",
       "0                0                 76.875000\n",
       "                 1                 60.133333\n",
       "1                0                 30.705882\n",
       "                 1                 20.611111"
      ]
     },
     "execution_count": 25,
     "metadata": {},
     "output_type": "execute_result"
    }
   ],
   "source": [
    "group_3 = d[[\"term2year\", \"bills_introduced\", \"texas0_arkansas1\"]].groupby([\"texas0_arkansas1\", \"term2year\"]).mean()\n",
    "group_3"
   ]
  },
  {
   "cell_type": "markdown",
   "metadata": {},
   "source": [
    "When grouping by the state and term-length, it appears a two-year term is more effective (when compared to how many bills a four-year term introduces in two-years)."
   ]
  },
  {
   "cell_type": "markdown",
   "metadata": {},
   "source": [
    "# 3b"
   ]
  },
  {
   "cell_type": "markdown",
   "metadata": {},
   "source": [
    "b. For each state, estimate the standard error of the estimated ATE. "
   ]
  },
  {
   "cell_type": "code",
   "execution_count": 26,
   "metadata": {},
   "outputs": [],
   "source": [
    " #3.4"
   ]
  },
  {
   "cell_type": "code",
   "execution_count": 27,
   "metadata": {},
   "outputs": [],
   "source": [
    "# Standard error of the sample mean? "
   ]
  },
  {
   "cell_type": "code",
   "execution_count": 28,
   "metadata": {},
   "outputs": [
    {
     "data": {
      "text/plain": [
       "16.741666666666667"
      ]
     },
     "execution_count": 28,
     "metadata": {},
     "output_type": "execute_result"
    }
   ],
   "source": [
    "ateTexas = group_3.diff()[\"bills_introduced\"][0]\n",
    "ateTexas # 16.7...\n",
    "ateT = ateTexas[1]\n",
    "ateT = abs(ateT)\n",
    "ateT"
   ]
  },
  {
   "cell_type": "code",
   "execution_count": 29,
   "metadata": {},
   "outputs": [
    {
     "data": {
      "text/plain": [
       "10.094771241830067"
      ]
     },
     "execution_count": 29,
     "metadata": {},
     "output_type": "execute_result"
    }
   ],
   "source": [
    "ateArkansas = group_3.diff()[\"bills_introduced\"][1]\n",
    "ateArkansas # Index 1 10.09...\n",
    "ateA = ateArkansas[1]\n",
    "ateA = abs(ateA)\n",
    "ateA"
   ]
  },
  {
   "cell_type": "code",
   "execution_count": 30,
   "metadata": {},
   "outputs": [],
   "source": [
    "# standard error for texas # 0 = 4 year; and \n",
    "\n",
    "# variance of the vector of potential outcomes to 2 year (needs to be an array)\n",
    "\n",
    "# pull a vector of all outcomes for Texas 2 year\n",
    "\n",
    "po_4_t =[]\n",
    "count_index = 0\n",
    "for i in d[\"term2year\"]:\n",
    "    if i == 0 and (d[\"texas0_arkansas1\"][count_index] == 0):\n",
    "        value = d[\"bills_introduced\"][count_index]\n",
    "        po_4_t.append(value)\n",
    "        count_index += 1\n",
    "    else:\n",
    "        count_index += 1\n",
    "# print(po_4_t)\n",
    "\n",
    "var_t_4_year = np.var(po_4_t)\n",
    "\n",
    "\n",
    "\n",
    "po_2_t =[]\n",
    "count_index = 0\n",
    "for i in d[\"term2year\"]:\n",
    "    if i == 1 and (d[\"texas0_arkansas1\"][count_index] == 0):\n",
    "        value = d[\"bills_introduced\"][count_index]\n",
    "        po_2_t.append(value)\n",
    "        count_index += 1\n",
    "    else:\n",
    "        count_index += 1\n",
    "# print(po_2_t)\n",
    "\n",
    "\n",
    "var_t_2_year = np.var(po_2_t)\n",
    "\n",
    "\n",
    "#########################################################################################\n",
    "\n",
    "\n",
    "# pull a vector of all outcomes for Arkansas 2 year\n",
    "\n",
    "po_4_a =[]\n",
    "count_index = 0\n",
    "for i in d[\"term2year\"]:\n",
    "    if i == 0 and (d[\"texas0_arkansas1\"][count_index] == 1):\n",
    "        value = d[\"bills_introduced\"][count_index]\n",
    "        po_4_a.append(value)\n",
    "        count_index += 1\n",
    "    else:\n",
    "        count_index += 1\n",
    "# print(po_4_a)\n",
    "\n",
    "var_a_4_year = np.var(po_4_a)\n",
    "\n",
    "\n",
    "\n",
    "\n",
    "po_2_a =[]\n",
    "count_index = 0\n",
    "for i in d[\"term2year\"]:\n",
    "    if i == 1 and (d[\"texas0_arkansas1\"][count_index] == 1):\n",
    "        value = d[\"bills_introduced\"][count_index]\n",
    "        po_2_a.append(value)\n",
    "        count_index += 1\n",
    "    else:\n",
    "        count_index += 1\n",
    "# print(po_2_a)\n",
    "\n",
    "var_a_2_year = np.var(po_2_a)\n",
    "\n"
   ]
  },
  {
   "cell_type": "code",
   "execution_count": 31,
   "metadata": {},
   "outputs": [],
   "source": [
    "count_index= 0\n",
    "count_4_year_t = 0\n",
    "count_2_year_t = 0\n",
    "for i in d[\"term2year\"]:\n",
    "    if i == 0 and (d[\"texas0_arkansas1\"][count_index] == 0):\n",
    "        count_4_year_t += 1\n",
    "        count_index +=1\n",
    "    elif i == 1 and d[\"texas0_arkansas1\"][count_index] == 0:\n",
    "        count_2_year_t += 1\n",
    "        count_index += 1\n",
    "    else: \n",
    "        count_index += 1\n",
    "# print(count_4_year_t)\n",
    "# print(count_2_year_t)"
   ]
  },
  {
   "cell_type": "code",
   "execution_count": 32,
   "metadata": {},
   "outputs": [],
   "source": [
    "count_index = 0\n",
    "count_4_year_a = 0\n",
    "count_2_year_a = 0\n",
    "\n",
    "for i in d[\"term2year\"]:\n",
    "    if i == 0 and (d[\"texas0_arkansas1\"][count_index] == 1):\n",
    "        count_4_year_a += 1\n",
    "        count_index +=1\n",
    "    elif i == 1 and d[\"texas0_arkansas1\"][count_index] == 1:\n",
    "        count_2_year_a += 1\n",
    "        count_index += 1\n",
    "    else:\n",
    "        count_index += 1\n",
    "# print(count_4_year_a)\n",
    "# print(count_2_year_a)\n",
    "# print(count_index)"
   ]
  },
  {
   "cell_type": "code",
   "execution_count": 33,
   "metadata": {},
   "outputs": [],
   "source": [
    "# covariance in 3.3"
   ]
  },
  {
   "cell_type": "code",
   "execution_count": 34,
   "metadata": {},
   "outputs": [
    {
     "name": "stdout",
     "output_type": "stream",
     "text": [
      "The standard error for Texas is 9.04274905515668\n"
     ]
    }
   ],
   "source": [
    "# standard error of texas\n",
    "a = var_t_4_year/(31 - count_2_year_t)\n",
    "b = var_t_2_year/count_2_year_t\n",
    "\n",
    "se_t = np.sqrt(a+b)\n",
    "print(\"The standard error for Texas is \" + str(se_t))"
   ]
  },
  {
   "cell_type": "code",
   "execution_count": 35,
   "metadata": {},
   "outputs": [
    {
     "name": "stdout",
     "output_type": "stream",
     "text": [
      "The standard error for Arkansas is 3.2959680182586952\n"
     ]
    }
   ],
   "source": [
    "# standard error of arkansas\n",
    "a = var_a_4_year/(35 - count_2_year_a)\n",
    "b = var_a_2_year/count_2_year_a\n",
    "\n",
    "se_a = np.sqrt(a+b)\n",
    "se_a\n",
    "print(\"The standard error for Arkansas is \" + str(se_a))"
   ]
  },
  {
   "cell_type": "code",
   "execution_count": 36,
   "metadata": {},
   "outputs": [],
   "source": [
    "se_ate = 'The standard error for Texas is ~ 9.04, while the standard error for Arkansas is ~ 3.295'"
   ]
  },
  {
   "cell_type": "markdown",
   "metadata": {},
   "source": [
    "# 3c\n",
    "\n",
    "c. Use equation (3.10) to estimate the overall ATE for both states combined. "
   ]
  },
  {
   "cell_type": "code",
   "execution_count": 37,
   "metadata": {},
   "outputs": [
    {
     "data": {
      "text/plain": [
       "13.216797880768471"
      ]
     },
     "execution_count": 37,
     "metadata": {},
     "output_type": "execute_result"
    }
   ],
   "source": [
    "overall_ate = (ateT*(len(d[d[\"texas0_arkansas1\"] == 0])/len(d))) + (ateA*(len(d[d[\"texas0_arkansas1\"] == 1])/len(d)))\n",
    "overall_ate"
   ]
  },
  {
   "cell_type": "code",
   "execution_count": 38,
   "metadata": {},
   "outputs": [],
   "source": [
    "overall_ate = '~13.217'"
   ]
  },
  {
   "cell_type": "markdown",
   "metadata": {},
   "source": [
    "# 3d\n",
    "\n",
    "d. Explain why, in this study, simply pooling the data for the two states and comparing the average number of bills introduced by two-year senators to the average number of bills introduced by four-year senators leads to biased estimate of the overall ATE. "
   ]
  },
  {
   "cell_type": "markdown",
   "metadata": {},
   "source": [
    "#### Brandon's Response to 3d\n",
    "\n",
    "This leads to a biased estimate because it is not blocking for each state. The overall ATE aggregates each states individual ATE."
   ]
  },
  {
   "cell_type": "markdown",
   "metadata": {},
   "source": [
    "# 3e\n",
    "\n",
    "e. Insert the estimated standard errors into equation (3.12) to estimate the stand error for the overall ATE. "
   ]
  },
  {
   "cell_type": "code",
   "execution_count": 39,
   "metadata": {},
   "outputs": [
    {
     "data": {
      "text/plain": [
       "4.5929313654878525"
      ]
     },
     "execution_count": 39,
     "metadata": {},
     "output_type": "execute_result"
    }
   ],
   "source": [
    "t = (se_t**2)*((len(d[d[\"texas0_arkansas1\"] == 0])/len(d))**2)\n",
    "a = (se_a**2)*((len(d[d[\"texas0_arkansas1\"] == 1])/len(d))**2)\n",
    "\n",
    "se_overall_ate = np.sqrt(t + a)\n",
    "se_overall_ate"
   ]
  },
  {
   "cell_type": "code",
   "execution_count": 40,
   "metadata": {},
   "outputs": [],
   "source": [
    "se_overall_ate = '~4.59'"
   ]
  },
  {
   "cell_type": "markdown",
   "metadata": {},
   "source": [
    "# 3f\n",
    "\n",
    "f. Use randomization inference to test the sharp null hypothesis that the treatment effect is zero for senators in both states. Here we mean: estimate the *overall ate* (which is, the weighted average of the block ate) as the internal part of your RI loop. "
   ]
  },
  {
   "cell_type": "code",
   "execution_count": 41,
   "metadata": {},
   "outputs": [],
   "source": [
    "##### Dataframe for each state #######\n",
    "\n",
    "a_df = d[d[\"texas0_arkansas1\"] == 1]\n",
    "t_df = d[d[\"texas0_arkansas1\"] == 0]"
   ]
  },
  {
   "cell_type": "code",
   "execution_count": 42,
   "metadata": {},
   "outputs": [],
   "source": [
    "############## Code ###################\n",
    "\n",
    "def randomize(d):\n",
    "#     a = np.repeat([0,1], repeats = (number_of_participants/2))\n",
    "    a = np.random.choice([0, 1], size = len(d), replace = True)\n",
    "    np.random.shuffle(a)\n",
    "    return a\n",
    "\n",
    "\n",
    "def simulated_experiment(df):\n",
    "    df[\"treat\"] = randomize(df)\n",
    "    results = df[[\"bills_introduced\", \"treat\"]].groupby(\"treat\").mean().astype(np.float32)\n",
    "    ate = results.diff()[\"bills_introduced\"][1]\n",
    "    return ate \n",
    "\n"
   ]
  },
  {
   "cell_type": "code",
   "execution_count": 43,
   "metadata": {},
   "outputs": [
    {
     "name": "stderr",
     "output_type": "stream",
     "text": [
      "/anaconda3/lib/python3.6/site-packages/ipykernel_launcher.py:11: SettingWithCopyWarning: \n",
      "A value is trying to be set on a copy of a slice from a DataFrame.\n",
      "Try using .loc[row_indexer,col_indexer] = value instead\n",
      "\n",
      "See the caveats in the documentation: http://pandas.pydata.org/pandas-docs/stable/indexing.html#indexing-view-versus-copy\n",
      "  # This is added back by InteractiveShellApp.init_path()\n"
     ]
    },
    {
     "name": "stdout",
     "output_type": "stream",
     "text": [
      "p value = 0.001001001001001001\n"
     ]
    },
    {
     "data": {
      "image/png": "[encoded data removed]",
      "text/plain": [
       "<Figure size 432x288 with 1 Axes>"
      ]
     },
     "metadata": {
      "needs_background": "light"
     },
     "output_type": "display_data"
    }
   ],
   "source": [
    "######### Here for Arkansas ##########\n",
    "\n",
    "a_experiments = []\n",
    "for i in range(1, 1000):\n",
    "    a_experiments.append(simulated_experiment(a_df))\n",
    "    \n",
    "plt.hist(a_experiments)\n",
    "plt.axvline(x = ateA, color = \"darkorange\")\n",
    "\n",
    "p = a_experiments > ateA\n",
    "p = p.astype(int)\n",
    "p = p.mean()\n",
    "print(\"p value = \" + str(p))"
   ]
  },
  {
   "cell_type": "code",
   "execution_count": 44,
   "metadata": {},
   "outputs": [
    {
     "name": "stderr",
     "output_type": "stream",
     "text": [
      "/anaconda3/lib/python3.6/site-packages/ipykernel_launcher.py:11: SettingWithCopyWarning: \n",
      "A value is trying to be set on a copy of a slice from a DataFrame.\n",
      "Try using .loc[row_indexer,col_indexer] = value instead\n",
      "\n",
      "See the caveats in the documentation: http://pandas.pydata.org/pandas-docs/stable/indexing.html#indexing-view-versus-copy\n",
      "  # This is added back by InteractiveShellApp.init_path()\n"
     ]
    },
    {
     "name": "stdout",
     "output_type": "stream",
     "text": [
      "p value = 0.036036036036036036\n"
     ]
    },
    {
     "data": {
      "image/png": "[encoded data removed]",
      "text/plain": [
       "<Figure size 432x288 with 1 Axes>"
      ]
     },
     "metadata": {
      "needs_background": "light"
     },
     "output_type": "display_data"
    }
   ],
   "source": [
    "######## Here for Texas ####### \n",
    "\n",
    "t_experiments = []\n",
    "for i in range(1, 1000):\n",
    "    t_experiments.append(simulated_experiment(t_df))\n",
    "    \n",
    "plt.hist(t_experiments)\n",
    "plt.axvline(x = ateA, color = \"darkorange\")\n",
    "\n",
    "p = t_experiments > ateT\n",
    "p = p.astype(int)\n",
    "p = p.mean()\n",
    "print(\"p value = \" + str(p))"
   ]
  },
  {
   "cell_type": "code",
   "execution_count": 45,
   "metadata": {},
   "outputs": [],
   "source": [
    "p_value = 'The p value for Arkansas is ~ .003, while the p value for Texas is ~ .047' \n",
    "\n"
   ]
  },
  {
   "cell_type": "markdown",
   "metadata": {},
   "source": [
    "# 3g"
   ]
  },
  {
   "cell_type": "code",
   "execution_count": 46,
   "metadata": {},
   "outputs": [
    {
     "data": {
      "text/plain": [
       "Text(0.5, 1.0, 'Number of bills introduced during a 4 year term in Arkansas')"
      ]
     },
     "execution_count": 46,
     "metadata": {},
     "output_type": "execute_result"
    },
    {
     "data": {
      "image/png": "[encoded data removed]",
      "text/plain": [
       "<Figure size 432x288 with 1 Axes>"
      ]
     },
     "metadata": {
      "needs_background": "light"
     },
     "output_type": "display_data"
    }
   ],
   "source": [
    "a_df_c = a_df[a_df[\"term2year\"] == 0][\"bills_introduced\"]\n",
    "plt.hist(a_df_c)\n",
    "plt.title(\"Number of bills introduced during a 4 year term in Arkansas\")"
   ]
  },
  {
   "cell_type": "code",
   "execution_count": 47,
   "metadata": {},
   "outputs": [
    {
     "data": {
      "text/plain": [
       "Text(0.5, 1.0, 'Number of bills introduced during a 2 year term in Arkansas')"
      ]
     },
     "execution_count": 47,
     "metadata": {},
     "output_type": "execute_result"
    },
    {
     "data": {
      "image/png": "[encoded data removed]",
      "text/plain": [
       "<Figure size 432x288 with 1 Axes>"
      ]
     },
     "metadata": {
      "needs_background": "light"
     },
     "output_type": "display_data"
    }
   ],
   "source": [
    "a_df_t = a_df[a_df[\"term2year\"] == 1][\"bills_introduced\"]\n",
    "plt.hist(a_df_t)\n",
    "plt.title(\"Number of bills introduced during a 2 year term in Arkansas\")"
   ]
  },
  {
   "cell_type": "code",
   "execution_count": 48,
   "metadata": {},
   "outputs": [
    {
     "data": {
      "text/plain": [
       "Text(0.5, 1.0, 'Number of bills introduced during a 4 year term in Texas')"
      ]
     },
     "execution_count": 48,
     "metadata": {},
     "output_type": "execute_result"
    },
    {
     "data": {
      "image/png": "[encoded data removed]",
      "text/plain": [
       "<Figure size 432x288 with 1 Axes>"
      ]
     },
     "metadata": {
      "needs_background": "light"
     },
     "output_type": "display_data"
    }
   ],
   "source": [
    "t_df_c = t_df[t_df[\"term2year\"] == 0][\"bills_introduced\"]\n",
    "plt.hist(t_df_c)\n",
    "plt.title(\"Number of bills introduced during a 4 year term in Texas\")"
   ]
  },
  {
   "cell_type": "code",
   "execution_count": 49,
   "metadata": {},
   "outputs": [
    {
     "data": {
      "text/plain": [
       "Text(0.5, 1.0, 'Number of bills introduced during a 2 year term in Texas')"
      ]
     },
     "execution_count": 49,
     "metadata": {},
     "output_type": "execute_result"
    },
    {
     "data": {
      "image/png": "[encoded data removed]",
      "text/plain": [
       "<Figure size 432x288 with 1 Axes>"
      ]
     },
     "metadata": {
      "needs_background": "light"
     },
     "output_type": "display_data"
    }
   ],
   "source": [
    "t_df_t = t_df[t_df[\"term2year\"] == 1][\"bills_introduced\"]\n",
    "plt.hist(t_df_t)\n",
    "plt.title(\"Number of bills introduced during a 2 year term in Texas\")"
   ]
  },
  {
   "cell_type": "markdown",
   "metadata": {},
   "source": [
    "# 3g\n",
    "\n",
    "g. **IN Addition:** Plot histograms for both the treatment and control groups in each state (for 4 histograms in total).\n",
    "\n",
    "# 3. Cluster Randomization\n",
    "Use the data in the table below to explore the consequences of cluster random assignment. (Assume that there are three clusters in treatment and four clusters in control.) Note that there is no randomization inference that is necessary to complete this problem because we have observed the *impossible* **science table**.  \n"
   ]
  },
  {
   "cell_type": "code",
   "execution_count": 50,
   "metadata": {},
   "outputs": [],
   "source": [
    "d = pd.read_csv('./data/clustering_data.csv')\n"
   ]
  },
  {
   "cell_type": "markdown",
   "metadata": {},
   "source": [
    "# a. \n",
    "\n",
    "Suppose the clusters are formed by grouping observations {1,2}, {3,4}, {5,6}, ... , {13,14}. Use equation (3.22) to calculate the standard error. Note that, because we have the full schedule of potential outcomes -- the science table -- it is possible to estimate $cov(\\bar{Y}_{j}(0), \\bar{Y}_{j}(1))$. If we did not posess this information, then we would need to work with equation 3.23. "
   ]
  },
  {
   "cell_type": "code",
   "execution_count": 51,
   "metadata": {},
   "outputs": [],
   "source": [
    "def clustered_se(fill_out_args): \n",
    "    '''\n",
    "    do stuff\n",
    "    '''\n",
    "# equation number 3.2.2.\n",
    "# Now suppose our clusters are formed in a different way, and think\n",
    "# about why one is way more efficient than anyone."
   ]
  },
  {
   "cell_type": "code",
   "execution_count": 52,
   "metadata": {},
   "outputs": [],
   "source": [
    "y0_list = [[0,2], [2,4], [5, 6], [7, 9], [14, 15], [16, 17], [17,19]]\n",
    "y1_list =[[0,0], [1,4], [0,0], [3, 3], [12, 8], [8, 15], [6, 17]]\n",
    "\n",
    "def meanish(l):\n",
    "    mean_list = []\n",
    "    for i in l:\n",
    "        mean_list.append(stat.mean(i))\n",
    "    return mean_list\n",
    "        \n",
    "y0_cluster_list = meanish(y0_list)\n",
    "y1_cluster_list = meanish(y1_list)\n",
    "\n",
    "# print(y0_cluster_list)\n",
    "# print(y1_cluster_list)\n",
    "\n",
    "df_c = pd.DataFrame({\n",
    "    \"y0\": y0_cluster_list,\n",
    "    \"y1\": y1_cluster_list\n",
    "})\n",
    "\n",
    "# df_c"
   ]
  },
  {
   "cell_type": "code",
   "execution_count": 53,
   "metadata": {},
   "outputs": [],
   "source": [
    "m = float(3)\n",
    "n = float(len(d))\n",
    "k = float(7)\n",
    "\n",
    "a = (m*np.var(df_c[\"y0\"]))/(n-m)\n",
    "# print(type(a))\n",
    "b = ((n-m)*np.var(df_c[\"y1\"]))/m\n",
    "# print(type(b))\n"
   ]
  },
  {
   "cell_type": "code",
   "execution_count": 54,
   "metadata": {},
   "outputs": [],
   "source": [
    "# covariance \n",
    "\n",
    "y0_mean = df_c[\"y0\"].mean()\n",
    "y0_vector = []\n",
    "\n",
    "# print(y0_mean)\n",
    "\n",
    "for i in df_c[\"y0\"]:\n",
    "    y0_vector.append(i - y0_mean)\n",
    "    \n",
    "y1_mean = df_c[\"y1\"].mean()\n",
    "y1_vector = []\n",
    "\n",
    "# print(y1_mean)\n",
    "\n",
    "for i in df_c[\"y1\"]:\n",
    "    y1_vector.append(i - y1_mean)  \n",
    "    \n",
    "answer = 2*(np.array(y0_vector) * np.array(y1_vector))\n",
    "\n",
    "answer = float(answer.mean())\n",
    "# type(answer)"
   ]
  },
  {
   "cell_type": "code",
   "execution_count": 55,
   "metadata": {},
   "outputs": [
    {
     "name": "stdout",
     "output_type": "stream",
     "text": [
      "The standard error is ~ 5.13\n"
     ]
    }
   ],
   "source": [
    "result = np.sqrt((1/(k-1))*(a+b+answer))\n",
    "print(\"The standard error is ~ \" + str(round(result, 2)))\n",
    "\n",
    "# 5.13"
   ]
  },
  {
   "cell_type": "markdown",
   "metadata": {},
   "source": [
    "# b. \n",
    "\n",
    "Suppose that clusters are instead formed by grouping observations {1,14}, {2,13}, {3,12}, ... , {7,8}. Use equation (3.22) to calculate the standard error assuming half of the clusters are randomly assigned to treatment. "
   ]
  },
  {
   "cell_type": "code",
   "execution_count": 56,
   "metadata": {},
   "outputs": [],
   "source": [
    "# d"
   ]
  },
  {
   "cell_type": "code",
   "execution_count": 57,
   "metadata": {},
   "outputs": [
    {
     "name": "stdout",
     "output_type": "stream",
     "text": [
      "The standard error is ~ 1.69\n"
     ]
    }
   ],
   "source": [
    "y0_list = [[0,19], [2,17], [2, 17], [4, 16], [5, 15], [6, 14], [7,9]]\n",
    "y1_list =[[0,17], [0,6], [1,15], [4, 8], [0, 8], [0, 12], [3, 3]]\n",
    "\n",
    "def meanish(l):\n",
    "    mean_list = []\n",
    "    for i in l:\n",
    "        mean_list.append(stat.mean(i))\n",
    "    return mean_list\n",
    "        \n",
    "y0_cluster_list = meanish(y0_list)\n",
    "y1_cluster_list = meanish(y1_list)\n",
    "\n",
    "# print(y0_cluster_list)\n",
    "# print(y1_cluster_list)\n",
    "\n",
    "df_c = pd.DataFrame({\n",
    "    \"y0\": y0_cluster_list,\n",
    "    \"y1\": y1_cluster_list\n",
    "})\n",
    "\n",
    "\n",
    "\n",
    "m = float(3)\n",
    "n = float(len(d))\n",
    "k = float(7)\n",
    "\n",
    "a = (m*np.var(df_c[\"y0\"]))/(n-m)\n",
    "# print(type(a))\n",
    "b = ((n-m)*np.var(df_c[\"y1\"]))/m\n",
    "# print(type(b))\n",
    "\n",
    "\n",
    "\n",
    "y0_mean = df_c[\"y0\"].mean()\n",
    "y0_vector = []\n",
    "\n",
    "# print(y0_mean)\n",
    "\n",
    "for i in df_c[\"y0\"]:\n",
    "    y0_vector.append(i - y0_mean)\n",
    "    \n",
    "y1_mean = df_c[\"y1\"].mean()\n",
    "y1_vector = []\n",
    "\n",
    "# print(y1_mean)\n",
    "\n",
    "for i in df_c[\"y1\"]:\n",
    "    y1_vector.append(i - y1_mean)  \n",
    "    \n",
    "answer = 2*(np.array(y0_vector) * np.array(y1_vector))\n",
    "\n",
    "answer = float(answer.mean())\n",
    "\n",
    "result = np.sqrt((1/(k-1))*(a+b+answer))\n",
    "\n",
    "\n",
    "print(\"The standard error is ~ \" +(str(round(result, 2))))"
   ]
  },
  {
   "cell_type": "markdown",
   "metadata": {},
   "source": [
    "c. Why do the two methods of forming clusters lead to different standard errors? What are the implications for the design of cluster randomized experiments? "
   ]
  },
  {
   "cell_type": "markdown",
   "metadata": {},
   "source": [
    "# Brandon's Answer\n",
    "\n",
    "When the clusters consists of one value from one extreme end, and another from the opposite extreme end, the means of each cluster are closer to true mean of dataset. When the clusters consist of one value from one end, and another value right next to it, then the means of the clusters vary much further from the true mean of the data set."
   ]
  },
  {
   "cell_type": "markdown",
   "metadata": {},
   "source": [
    "# 4. Sell Phones? \n",
    "\n",
    "Suppose that you are working for a company that sells online display advertisements. (The generation's smartest minds, lost to chasing those clicks...) On client, a consumer electronics company is considering using your ad network to run a large campaign. In order to evaluate its effectiveness, they want to run a smaller experiment to estimate the causal impact of the ads on sales of one of their smartphones. \n",
    "\n",
    "**The facts** \n",
    "\n",
    "- The experiment campaign will run for one week within a randomly samples sub-population of 800,000 users\n",
    "- The cost per *impression* -- someone seeing the ad -- is $0.20. \n",
    "- The client tells you that they make a profit of \\$100 every time someone purchases one of their smarphones (e.g. the device costs \\$400 to manufacture, and are sold for \\$500.)\n",
    "- When they are **not** running the advertising campaign, the historic rate of purchasing has been that 0.004 of the population (0.4%) makes a purchase of this smartphone. \n",
    "- Assume that everyone who is assigned to the treatment group actually sees the ad. \n",
    "- Suppose there are no long-run effects and all the effects are measured within that week."
   ]
  },
  {
   "cell_type": "markdown",
   "metadata": {},
   "source": [
    "a. How large does the treatment effect need to be in order for the campaign to have positive value for the company? "
   ]
  },
  {
   "cell_type": "markdown",
   "metadata": {},
   "source": [
    "# Brandon's Response\n",
    "\n",
    "The treatment effect must be greater than .002"
   ]
  },
  {
   "cell_type": "markdown",
   "metadata": {},
   "source": [
    "Greater than 4%?"
   ]
  },
  {
   "cell_type": "markdown",
   "metadata": {},
   "source": [
    "b. Suppose the measured effect were to be 0.3 percentage points. If users are split 50:50 between the treatment group (exposed to iPhone ads) and control group (exposed to unrelated advertising or nothing; something you can assume has no effect), what will be the confidence interval of your estimate on whether people purchase the phone?"
   ]
  },
  {
   "cell_type": "code",
   "execution_count": 58,
   "metadata": {},
   "outputs": [],
   "source": [
    "# confidence intervals need to be around a point estimate "
   ]
  },
  {
   "cell_type": "code",
   "execution_count": 59,
   "metadata": {},
   "outputs": [
    {
     "name": "stdout",
     "output_type": "stream",
     "text": [
      "0.0026758658333344044\n",
      "0.0033241341666655957\n"
     ]
    }
   ],
   "source": [
    "p = ((0.007*400000 + 0.004*400000)/800000)\n",
    "se = math.sqrt(p*(1-p)*(1/(400000) + 1/(400000)))\n",
    "confidence_interval = se*1.96\n",
    "ci_lower = .003 - confidence_interval\n",
    "ci_higher = .003 + confidence_interval\n",
    "\n",
    "print(ci_lower)\n",
    "print(ci_higher)"
   ]
  },
  {
   "cell_type": "markdown",
   "metadata": {},
   "source": [
    "  + **Hint:** The standard error for a two-sample proportion test is $\\sqrt{p(1-p)*(\\frac{1}{n_{1}}+\\frac{1}{n_{2}})}$ where $p=\\frac{x_{1}+x_{2}}{n_{1}+n_{2}}$, where $x$ and $n$ refer to the number of “successes” (here, purchases) over the number of “trials” (here, site visits). The length of each tail of a 95% confidence interval is calculated by multiplying the standard error by 1.96.\n",
    "  \n",
    "c. Based on this confidence interval, if the effect were 0.3 percentage points, would you recommend running the production campaign among the whole population? Why or why not?\n",
    "\n",
    "**Yes, because the lower cofidence interval is .0026, which is more than the baseline of where they are before treatment**\n",
    "\n",
    "d. Your boss at the newspaper, worried about potential loss of revenue, says he is not willing to hold back a control group any larger than 1% of users. What would be the width of the confidence interval for this experiment if only 1% of users were placed in the control group and 99% were placed in the treatment group?"
   ]
  },
  {
   "cell_type": "code",
   "execution_count": 60,
   "metadata": {},
   "outputs": [
    {
     "name": "stdout",
     "output_type": "stream",
     "text": [
      "The lower bound of the confidence interval would be ~ 0.0012 and the upper bound would be ~ 0.0048\n"
     ]
    }
   ],
   "source": [
    "p = ((0.007*792000 + 0.004*8000)/800000)\n",
    "se = math.sqrt(p*(1-p)*(1/(792000) + 1/(8000)))\n",
    "confidence_interval = se*1.96\n",
    "ci_lower = .003 - confidence_interval\n",
    "ci_higher = .003 + confidence_interval\n",
    "\n",
    "# print(ci_lower)\n",
    "# print(ci_higher)\n",
    "\n",
    "print(\"The lower bound of the confidence interval would be ~ \" + str(round(ci_lower, 4)) + \" and the upper bound would be ~ \" + str(round(ci_higher, 4)) )"
   ]
  },
  {
   "cell_type": "markdown",
   "metadata": {},
   "source": [
    "# 5. Sports Cards\n",
    "Here you will find a set of data from an auction experiment by John List and David Lucking-Reiley ([2000](https://drive.google.com/file/d/0BxwM1dZBYvxBNThsWmFsY1AyNEE/view?usp=sharing)).  "
   ]
  },
  {
   "cell_type": "code",
   "execution_count": 61,
   "metadata": {},
   "outputs": [],
   "source": [
    "d = pd.read_csv('./data/list_data_2019.csv')"
   ]
  },
  {
   "cell_type": "code",
   "execution_count": 62,
   "metadata": {},
   "outputs": [],
   "source": [
    "# print(len(d))"
   ]
  },
  {
   "cell_type": "markdown",
   "metadata": {},
   "source": [
    "In this experiment, the experimenters invited consumers at a sports card trading show to bid against one other bidder for a pair trading cards.  We abstract from the multi-unit-auction details here, and simply state that the treatment auction format was theoretically predicted to produce lower bids than the control auction format.  We provide you a relevant subset of data from the experiment.\n",
    "\n",
    "In this question, we are asking you to produce p-values and confidence intervals in three different ways: (1) Using a `t.test`, using a regression, and using randomization inference. \n",
    "\n",
    "a. Using a `t.test`, compute a 95% confidence interval for the difference between the treatment mean and the control mean."
   ]
  },
  {
   "cell_type": "code",
   "execution_count": 69,
   "metadata": {
    "lines_to_next_cell": 0
   },
   "outputs": [
    {
     "data": {
      "text/plain": [
       "Ttest_indResult(statistic=-2.8211439451802223, pvalue=0.006314795950663972)"
      ]
     },
     "execution_count": 69,
     "metadata": {},
     "output_type": "execute_result"
    }
   ],
   "source": [
    "t_test_result = 'replace text'\n",
    "# find a preloaded t-test\n",
    "# stats.ttest_ind\n",
    "\n",
    "treatment = d[d['uniform_price_auction']==1].bid\n",
    "control = d[d['uniform_price_auction']==0].bid\n",
    "\n",
    "t_test_result = stats.ttest_ind(treatment, control)\n",
    "t_test_result\n",
    "# str(t_test_result)\n",
    "\n",
    "\n",
    "# ate of difference between the two means / and the SD for??? variance of treatment and control\n"
   ]
  },
  {
   "cell_type": "code",
   "execution_count": 70,
   "metadata": {},
   "outputs": [
    {
     "name": "stdout",
     "output_type": "stream",
     "text": [
      "(-20.854624065199104, -3.557140640683249)\n"
     ]
    }
   ],
   "source": [
    "import statsmodels.stats.api as sms\n",
    "\n",
    "ci = sms.CompareMeans(sms.DescrStatsW(treatment), sms.DescrStatsW(control))\n",
    "print(ci.tconfint_diff(usevar='unequal'))"
   ]
  },
  {
   "cell_type": "code",
   "execution_count": 71,
   "metadata": {},
   "outputs": [
    {
     "data": {
      "text/plain": [
       "Ttest_indResult(statistic=-2.8211439451802223, pvalue=0.006314795950663972)"
      ]
     },
     "execution_count": 71,
     "metadata": {},
     "output_type": "execute_result"
    }
   ],
   "source": [
    "t_test_result"
   ]
  },
  {
   "cell_type": "code",
   "execution_count": 72,
   "metadata": {},
   "outputs": [],
   "source": [
    "# import numpy as np\n",
    "# import scipy.stats\n",
    "\n",
    "\n",
    "# def mean_confidence_interval(data, confidence=0.95):\n",
    "#     a = 1.0 * np.array(data)\n",
    "#     n = len(a)\n",
    "#     m, se = np.mean(a), scipy.stats.sem(a)\n",
    "#     h = se * scipy.stats.t.ppf((1 + confidence) / 2., n-1)\n",
    "#     return m, m-h, m+h\n",
    "# print(mean_confidence_interval(d[d['uniform_price_auction']==1].bid))\n",
    "# print(mean_confidence_interval(d[d['uniform_price_auction']==0].bid))\n"
   ]
  },
  {
   "cell_type": "markdown",
   "metadata": {},
   "source": [
    "You should be able to look into `str(t_test_result)` to find the pieces that you want to pull to include in your written results.\n",
    "\n",
    "b. In plain language, what does this confidence interval mean? (Put your answer in bold!) \n",
    "\n",
    "\n",
    "**There is a 95% chance the true ATE lies between the lower and upper bound confidence intervals**\n",
    "\n",
    "\n",
    "\n",
    "c. Regression on a binary treatment variable turns out to give one the same answer as the standard analytic formula you just used.  Demonstrate this by regressing the bid on a binary variable equal to 0 for the control auction and 1 for the treatment auction."
   ]
  },
  {
   "cell_type": "code",
   "execution_count": 73,
   "metadata": {},
   "outputs": [
    {
     "data": {
      "text/html": [
       "<table class=\"simpletable\">\n",
       "<caption>OLS Regression Results</caption>\n",
       "<tr>\n",
       "  <th>Dep. Variable:</th>           <td>bid</td>       <th>  R-squared:         </th> <td>   0.108</td>\n",
       "</tr>\n",
       "<tr>\n",
       "  <th>Model:</th>                   <td>OLS</td>       <th>  Adj. R-squared:    </th> <td>   0.094</td>\n",
       "</tr>\n",
       "<tr>\n",
       "  <th>Method:</th>             <td>Least Squares</td>  <th>  F-statistic:       </th> <td>   7.959</td>\n",
       "</tr>\n",
       "<tr>\n",
       "  <th>Date:</th>             <td>Fri, 04 Oct 2019</td> <th>  Prob (F-statistic):</th>  <td>0.00631</td>\n",
       "</tr>\n",
       "<tr>\n",
       "  <th>Time:</th>                 <td>22:37:58</td>     <th>  Log-Likelihood:    </th> <td> -291.41</td>\n",
       "</tr>\n",
       "<tr>\n",
       "  <th>No. Observations:</th>      <td>    68</td>      <th>  AIC:               </th> <td>   586.8</td>\n",
       "</tr>\n",
       "<tr>\n",
       "  <th>Df Residuals:</th>          <td>    66</td>      <th>  BIC:               </th> <td>   591.3</td>\n",
       "</tr>\n",
       "<tr>\n",
       "  <th>Df Model:</th>              <td>     1</td>      <th>                     </th>     <td> </td>   \n",
       "</tr>\n",
       "<tr>\n",
       "  <th>Covariance Type:</th>      <td>nonrobust</td>    <th>                     </th>     <td> </td>   \n",
       "</tr>\n",
       "</table>\n",
       "<table class=\"simpletable\">\n",
       "<tr>\n",
       "            <td></td>               <th>coef</th>     <th>std err</th>      <th>t</th>      <th>P>|t|</th>  <th>[0.025</th>    <th>0.975]</th>  \n",
       "</tr>\n",
       "<tr>\n",
       "  <th>Intercept</th>             <td>   28.8235</td> <td>    3.059</td> <td>    9.421</td> <td> 0.000</td> <td>   22.715</td> <td>   34.932</td>\n",
       "</tr>\n",
       "<tr>\n",
       "  <th>uniform_price_auction</th> <td>  -12.2059</td> <td>    4.327</td> <td>   -2.821</td> <td> 0.006</td> <td>  -20.844</td> <td>   -3.568</td>\n",
       "</tr>\n",
       "</table>\n",
       "<table class=\"simpletable\">\n",
       "<tr>\n",
       "  <th>Omnibus:</th>       <td>10.797</td> <th>  Durbin-Watson:     </th> <td>   1.724</td>\n",
       "</tr>\n",
       "<tr>\n",
       "  <th>Prob(Omnibus):</th> <td> 0.005</td> <th>  Jarque-Bera (JB):  </th> <td>  10.775</td>\n",
       "</tr>\n",
       "<tr>\n",
       "  <th>Skew:</th>          <td> 0.876</td> <th>  Prob(JB):          </th> <td> 0.00457</td>\n",
       "</tr>\n",
       "<tr>\n",
       "  <th>Kurtosis:</th>      <td> 3.856</td> <th>  Cond. No.          </th> <td>    2.62</td>\n",
       "</tr>\n",
       "</table><br/><br/>Warnings:<br/>[1] Standard Errors assume that the covariance matrix of the errors is correctly specified."
      ],
      "text/plain": [
       "<class 'statsmodels.iolib.summary.Summary'>\n",
       "\"\"\"\n",
       "                            OLS Regression Results                            \n",
       "==============================================================================\n",
       "Dep. Variable:                    bid   R-squared:                       0.108\n",
       "Model:                            OLS   Adj. R-squared:                  0.094\n",
       "Method:                 Least Squares   F-statistic:                     7.959\n",
       "Date:                Fri, 04 Oct 2019   Prob (F-statistic):            0.00631\n",
       "Time:                        22:37:58   Log-Likelihood:                -291.41\n",
       "No. Observations:                  68   AIC:                             586.8\n",
       "Df Residuals:                      66   BIC:                             591.3\n",
       "Df Model:                           1                                         \n",
       "Covariance Type:            nonrobust                                         \n",
       "=========================================================================================\n",
       "                            coef    std err          t      P>|t|      [0.025      0.975]\n",
       "-----------------------------------------------------------------------------------------\n",
       "Intercept                28.8235      3.059      9.421      0.000      22.715      34.932\n",
       "uniform_price_auction   -12.2059      4.327     -2.821      0.006     -20.844      -3.568\n",
       "==============================================================================\n",
       "Omnibus:                       10.797   Durbin-Watson:                   1.724\n",
       "Prob(Omnibus):                  0.005   Jarque-Bera (JB):               10.775\n",
       "Skew:                           0.876   Prob(JB):                      0.00457\n",
       "Kurtosis:                       3.856   Cond. No.                         2.62\n",
       "==============================================================================\n",
       "\n",
       "Warnings:\n",
       "[1] Standard Errors assume that the covariance matrix of the errors is correctly specified.\n",
       "\"\"\""
      ]
     },
     "execution_count": 73,
     "metadata": {},
     "output_type": "execute_result"
    }
   ],
   "source": [
    "mod = smf.ols(formula = 'bid ~ uniform_price_auction', data = d)\n",
    "mod_fit = mod.fit()\n",
    "mod_fit.summary()\n",
    "\n",
    "# mod = smf.ols()\n",
    "# mod_fit = mod.fit()\n",
    "# mod_fit.summary()\n",
    "\n",
    "# Regression in stats model formulas \n",
    "# sm.ols(Y ~ treat + c data = f)\n",
    "# mod.fit()\n",
    "# nf.summary()"
   ]
  },
  {
   "cell_type": "markdown",
   "metadata": {},
   "source": [
    "d. Calculate the 95% confidence interval you get from the regression. There is a built in, "
   ]
  },
  {
   "cell_type": "code",
   "execution_count": 74,
   "metadata": {},
   "outputs": [
    {
     "data": {
      "text/html": [
       "<div>\n",
       "<style scoped>\n",
       "    .dataframe tbody tr th:only-of-type {\n",
       "        vertical-align: middle;\n",
       "    }\n",
       "\n",
       "    .dataframe tbody tr th {\n",
       "        vertical-align: top;\n",
       "    }\n",
       "\n",
       "    .dataframe thead th {\n",
       "        text-align: right;\n",
       "    }\n",
       "</style>\n",
       "<table border=\"1\" class=\"dataframe\">\n",
       "  <thead>\n",
       "    <tr style=\"text-align: right;\">\n",
       "      <th></th>\n",
       "      <th>0</th>\n",
       "      <th>1</th>\n",
       "    </tr>\n",
       "  </thead>\n",
       "  <tbody>\n",
       "    <tr>\n",
       "      <th>Intercept</th>\n",
       "      <td>22.715343</td>\n",
       "      <td>34.931716</td>\n",
       "    </tr>\n",
       "    <tr>\n",
       "      <th>uniform_price_auction</th>\n",
       "      <td>-20.844162</td>\n",
       "      <td>-3.567603</td>\n",
       "    </tr>\n",
       "  </tbody>\n",
       "</table>\n",
       "</div>"
      ],
      "text/plain": [
       "                               0          1\n",
       "Intercept              22.715343  34.931716\n",
       "uniform_price_auction -20.844162  -3.567603"
      ]
     },
     "execution_count": 74,
     "metadata": {},
     "output_type": "execute_result"
    }
   ],
   "source": [
    "mod_fit.conf_int(0.05)"
   ]
  },
  {
   "cell_type": "markdown",
   "metadata": {},
   "source": [
    "e. On to p-values. What p-value does the regression report? Note: please use two-tailed tests for the entire problem. (Should be able to pull this from the summary. And, you should try to do so with a call that _name_ calls for the parameter you're interested in, in this case, `uniform_price_auction`.) "
   ]
  },
  {
   "cell_type": "code",
   "execution_count": 75,
   "metadata": {},
   "outputs": [
    {
     "data": {
      "text/plain": [
       "0.006314795950663969"
      ]
     },
     "execution_count": 75,
     "metadata": {},
     "output_type": "execute_result"
    }
   ],
   "source": [
    "# p_value = .006 \n",
    "\n",
    "mod_fit.pvalues[\"uniform_price_auction\"]"
   ]
  },
  {
   "cell_type": "markdown",
   "metadata": {},
   "source": [
    "f. Now compute the same p-value using randomization inference."
   ]
  },
  {
   "cell_type": "code",
   "execution_count": 76,
   "metadata": {},
   "outputs": [
    {
     "data": {
      "text/plain": [
       "-12.205882352941178"
      ]
     },
     "execution_count": 76,
     "metadata": {},
     "output_type": "execute_result"
    }
   ],
   "source": [
    "# compute the ate\n",
    "\n",
    "a = d[[\"uniform_price_auction\", \"bid\"]].groupby(\"uniform_price_auction\").mean()\n",
    "ate = a.diff()[\"bid\"][1]\n",
    "ate\n"
   ]
  },
  {
   "cell_type": "code",
   "execution_count": 77,
   "metadata": {},
   "outputs": [],
   "source": [
    "# randomization inference\n",
    "def random(number_of_observations):\n",
    "    a = np.repeat([0,1], repeats = (number_of_observations/2))\n",
    "    np.random.shuffle(a)\n",
    "    return a\n",
    "\n",
    "\n",
    "def run_sim_experiment(df, number_per_group):\n",
    "    \"\"\"df, number_per_group, which must be an int\"\"\"\n",
    "    df[\"treat\"] = random(number_per_group)\n",
    "    results = df[[\"treat\", \"bid\"]].groupby(\"treat\").mean()\n",
    "    results = results.diff()[\"bid\"][1]\n",
    "    return results\n"
   ]
  },
  {
   "cell_type": "code",
   "execution_count": 78,
   "metadata": {},
   "outputs": [],
   "source": [
    "experiments = []\n",
    "for i in range(1, 10000):\n",
    "    experiments.append(run_sim_experiment(d, len(d)))"
   ]
  },
  {
   "cell_type": "code",
   "execution_count": 79,
   "metadata": {},
   "outputs": [
    {
     "data": {
      "text/plain": [
       "<matplotlib.lines.Line2D at 0x1c23afa0b8>"
      ]
     },
     "execution_count": 79,
     "metadata": {},
     "output_type": "execute_result"
    },
    {
     "data": {
      "image/png": "[encoded data removed]",
      "text/plain": [
       "<Figure size 432x288 with 1 Axes>"
      ]
     },
     "metadata": {
      "needs_background": "light"
     },
     "output_type": "display_data"
    }
   ],
   "source": [
    "plt.hist(experiments)\n",
    "plt.axvline(x = ate, color = \"darkorange\")"
   ]
  },
  {
   "cell_type": "code",
   "execution_count": 80,
   "metadata": {},
   "outputs": [
    {
     "name": "stdout",
     "output_type": "stream",
     "text": [
      "The p value is ~ 0.0029\n"
     ]
    }
   ],
   "source": [
    "p = experiments < ate\n",
    "p = p.astype(int)\n",
    "p = p.mean()\n",
    "print(\"The p value is ~ \" + str(round(p, 4)))"
   ]
  },
  {
   "cell_type": "markdown",
   "metadata": {},
   "source": [
    "g. Pull the same p-value from the `t.test`. "
   ]
  },
  {
   "cell_type": "code",
   "execution_count": 81,
   "metadata": {},
   "outputs": [
    {
     "data": {
      "text/plain": [
       "Ttest_indResult(statistic=-2.8211439451802223, pvalue=0.006314795950663972)"
      ]
     },
     "execution_count": 81,
     "metadata": {},
     "output_type": "execute_result"
    }
   ],
   "source": [
    "t_test_result"
   ]
  },
  {
   "cell_type": "markdown",
   "metadata": {},
   "source": [
    "h. Compare the two p-values in parts (e) and (f). Are they much different? Why or why not? How might your answer to this question change if the sample size were different?"
   ]
  },
  {
   "cell_type": "markdown",
   "metadata": {},
   "source": [
    "Box 3.7 pg. 65\n",
    "Randomization inference is more precise?\n",
    "\n",
    "# Brandon's Response\n",
    "\n",
    "The p-value for the randomization inference is smaller than the p-value from the t-test. Since a t-test operates on the assumption of normally distributed data, the t-test may be different. In other words, if the outcome is skewed, the randomization inference may due a better job at estimating the p-value. \n",
    "\n",
    "If the sample size increases, then the t-test may be more accurate if the data becomes more normally distributed (Central Limit Theorom) as it operates on such an assumption. "
   ]
  }
 ],
 "metadata": {
  "jupytext": {
   "cell_metadata_filter": "hide_output,name,-all",
   "formats": "ipynb,md",
   "main_language": "python",
   "notebook_metadata_filter": "-all"
  },
  "kernelspec": {
   "display_name": "Python 3",
   "language": "python",
   "name": "python3"
  },
  "language_info": {
   "codemirror_mode": {
    "name": "ipython",
    "version": 3
   },
   "file_extension": ".py",
   "mimetype": "text/x-python",
   "name": "python",
   "nbconvert_exporter": "python",
   "pygments_lexer": "ipython3",
   "version": "3.6.8"
  }
 },
 "nbformat": 4,
 "nbformat_minor": 2
}
